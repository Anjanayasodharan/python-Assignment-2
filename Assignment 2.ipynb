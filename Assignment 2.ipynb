{
 "cells": [
  {
   "cell_type": "markdown",
   "metadata": {},
   "source": [
    "## ASSIGNMENT 2:"
   ]
  },
  {
   "cell_type": "markdown",
   "metadata": {},
   "source": [
    "### Given two integer numbers returns their product only if the product is equal to or lower than 1000 else return their sum\n"
   ]
  },
  {
   "cell_type": "code",
   "execution_count": 1,
   "metadata": {},
   "outputs": [
    {
     "name": "stdout",
     "output_type": "stream",
     "text": [
      "sum of two numbers 898.0\n"
     ]
    }
   ],
   "source": [
    "\n",
    "number1=float(input(\"Enter the first number\"))\n",
    "number2=float(input(\"Enter the second number\"))\n",
    "product=number1*number2\n",
    "sum=number1+number2\n",
    "if(product>1000):\n",
    "    print(\"sum of two numbers\",sum)\n",
    "else:\n",
    "    print(\"product of two numbers\",product)\n",
    "\n"
   ]
  },
  {
   "cell_type": "markdown",
   "metadata": {},
   "source": [
    "### write a function to return True if the first and last number of a given list is same.If the numbers are different then return False"
   ]
  },
  {
   "cell_type": "code",
   "execution_count": 2,
   "metadata": {},
   "outputs": [
    {
     "name": "stdout",
     "output_type": "stream",
     "text": [
      "given list: [10, 20, 30, 40, 10]\n",
      "result is True\n",
      "given list: [75, 65, 35, 75, 30]\n",
      "result is False\n"
     ]
    }
   ],
   "source": [
    "def first_last(numberlist):\n",
    "    print(\"given list:\",numberlist)\n",
    "    first_number =  numberlist[0]\n",
    "    last_number = numberlist[-1]\n",
    "    if first_number == last_number:\n",
    "        return True\n",
    "    else:\n",
    "        return False\n",
    "numbers_a = [10,20,30,40,10]\n",
    "print(\"result is\",first_last(numbers_a))\n",
    "numbers_b = [75,65,35,75,30]\n",
    "print(\"result is\",first_last(numbers_b))"
   ]
  },
  {
   "cell_type": "markdown",
   "metadata": {},
   "source": [
    "### Iterate the given list of numbers and print only those numbers which are divisible by 5"
   ]
  },
  {
   "cell_type": "code",
   "execution_count": 3,
   "metadata": {},
   "outputs": [
    {
     "name": "stdout",
     "output_type": "stream",
     "text": [
      "Given list: [10, 20, 33, 46, 55]\n",
      "Divisible by 5:\n",
      "10\n",
      "20\n",
      "55\n"
     ]
    }
   ],
   "source": [
    "numberlist = [10,20,33,46,55]\n",
    "print(\"Given list:\",numberlist)\n",
    "print ('Divisible by 5:')\n",
    "for number in numberlist:\n",
    "    if number % 5 ==0:\n",
    "        print(number)"
   ]
  },
  {
   "cell_type": "markdown",
   "metadata": {},
   "source": [
    "### Write a program to find how many times substring \"Emma\" appears in the given string."
   ]
  },
  {
   "cell_type": "code",
   "execution_count": 13,
   "metadata": {},
   "outputs": [
    {
     "name": "stdout",
     "output_type": "stream",
     "text": [
      "Emma appeared  2 times\n"
     ]
    }
   ],
   "source": [
    "\n",
    "str_x = \"Emma is good developer . Emma is writer \"\n",
    "count= str_x.count(\"Emma\")\n",
    "print(\"Emma appeared \",count ,\"times\")"
   ]
  },
  {
   "cell_type": "markdown",
   "metadata": {},
   "source": [
    "### Print the following pattern\n",
    "## 1\n",
    "### 2 2\n",
    "### 3 3 3\n",
    "### 4 4 4 4\n",
    "### 5 5 5 5 5"
   ]
  },
  {
   "cell_type": "code",
   "execution_count": 14,
   "metadata": {},
   "outputs": [
    {
     "name": "stdout",
     "output_type": "stream",
     "text": [
      "1 \n",
      "2 2 \n",
      "3 3 3 \n",
      "4 4 4 4 \n",
      "5 5 5 5 5 \n"
     ]
    }
   ],
   "source": [
    "for i in range(1,6):\n",
    "    for j in range(i):\n",
    "        print(i,end=\" \")\n",
    "    print()"
   ]
  },
  {
   "cell_type": "markdown",
   "metadata": {},
   "source": [
    "### Create a new list from a two list using the following condition.\n",
    "### Given a two list of numbers,write a program to create a new list such that the new list should contain odd numbers from the first list and even number from the second list"
   ]
  },
  {
   "cell_type": "code",
   "execution_count": 22,
   "metadata": {},
   "outputs": [
    {
     "name": "stdout",
     "output_type": "stream",
     "text": [
      "result list: [25, 35, 40, 60, 90]\n"
     ]
    }
   ],
   "source": [
    "\n",
    "list1 =[10,20,25,30,35]\n",
    "list2 =[40,45,60,75,90]\n",
    "\n",
    "result=[]\n",
    "for num in list1:\n",
    "        if num % 2!=0:\n",
    "            result.append(num)\n",
    "for num in list2:\n",
    "        if num % 2==0:\n",
    "            result.append(num)\n",
    "\n",
    "print(\"result list:\",result)"
   ]
  }
 ],
 "metadata": {
  "kernelspec": {
   "display_name": "Python 3.10.7 64-bit",
   "language": "python",
   "name": "python3"
  },
  "language_info": {
   "codemirror_mode": {
    "name": "ipython",
    "version": 3
   },
   "file_extension": ".py",
   "mimetype": "text/x-python",
   "name": "python",
   "nbconvert_exporter": "python",
   "pygments_lexer": "ipython3",
   "version": "3.10.7"
  },
  "orig_nbformat": 4,
  "vscode": {
   "interpreter": {
    "hash": "e3ab98207b1c8a7fd9e9748a5d059c02751ff48fbef206375b133a181b4272c9"
   }
  }
 },
 "nbformat": 4,
 "nbformat_minor": 2
}
